{
 "cells": [
  {
   "cell_type": "code",
   "execution_count": null,
   "metadata": {},
   "outputs": [],
   "source": [
    "!mkdir tmp\n",
    "!curl -fSL -o tmp/requirements.txt https://raw.githubusercontent.com/AsherJingkongChen/heart-attack-prediction-course-project/main/requirements.txt\n",
    "!curl -fSL -o tmp/heart_2022_no_nans.csv https://raw.githubusercontent.com/AsherJingkongChen/heart-attack-prediction-course-project/main/data/heart_2022_no_nans.csv\n",
    "!curl -fSL -o tmp/xgboost_model_evaluator.py https://raw.githubusercontent.com/AsherJingkongChen/heart-attack-prediction-course-project/main/src/xgboost_model_evaluator.py"
   ]
  },
  {
   "cell_type": "code",
   "execution_count": null,
   "metadata": {},
   "outputs": [],
   "source": [
    "%pip install -r tmp/requirements.txt"
   ]
  },
  {
   "cell_type": "code",
   "execution_count": null,
   "metadata": {},
   "outputs": [],
   "source": [
    "!python3 tmp/xgboost_model_evaluator.py tmp/heart_2022_no_nans.csv"
   ]
  }
 ],
 "metadata": {
  "kernelspec": {
   "display_name": "Python 3",
   "language": "python",
   "name": "python3"
  },
  "language_info": {
   "codemirror_mode": {
    "name": "ipython",
    "version": 3
   },
   "file_extension": ".py",
   "mimetype": "text/x-python",
   "name": "python",
   "nbconvert_exporter": "python",
   "pygments_lexer": "ipython3",
   "version": "3.9.6"
  }
 },
 "nbformat": 4,
 "nbformat_minor": 2
}
